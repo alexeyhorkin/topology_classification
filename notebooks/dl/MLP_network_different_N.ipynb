{
 "cells": [
  {
   "cell_type": "markdown",
   "id": "89ebb92f",
   "metadata": {},
   "source": [
    "# Notebook for training/testing MLP network\n",
    "\n",
    "We train a set of `MLP` networks on different datasets (**for different N in system, N features uses - fixed**)"
   ]
  },
  {
   "cell_type": "code",
   "execution_count": null,
   "id": "39fb5960",
   "metadata": {
    "execution": {
     "iopub.execute_input": "2022-04-29T12:24:28.224297Z",
     "iopub.status.busy": "2022-04-29T12:24:28.224001Z",
     "iopub.status.idle": "2022-04-29T12:24:29.983159Z",
     "shell.execute_reply": "2022-04-29T12:24:29.982064Z"
    }
   },
   "outputs": [],
   "source": [
    "import os\n",
    "import random\n",
    "import numpy as np\n",
    "import pandas as pd\n",
    "import matplotlib.pyplot as plt\n",
    "\n",
    "from os.path import join as p_join\n",
    "\n",
    "import seaborn as sns\n",
    "\n",
    "\n",
    "##################################\n",
    "## GLOBAL SETTINGS ###############\n",
    "##################################\n",
    "plt.rcParams[\"figure.figsize\"] = (12, 8)"
   ]
  },
  {
   "cell_type": "code",
   "execution_count": null,
   "id": "41789d83",
   "metadata": {
    "execution": {
     "iopub.execute_input": "2022-04-29T12:24:29.999476Z",
     "iopub.status.busy": "2022-04-29T12:24:29.998883Z",
     "iopub.status.idle": "2022-04-29T12:24:30.860948Z",
     "shell.execute_reply": "2022-04-29T12:24:30.860068Z"
    }
   },
   "outputs": [],
   "source": [
    "###############################\n",
    "##### IMPORT DL Depensies #####\n",
    "###############################\n",
    "import torch\n",
    "import torchvision\n",
    "import torch.nn as nn\n",
    "import torch.nn.functional as F\n",
    "from torch.utils.data import Dataset, TensorDataset, DataLoader\n",
    "\n",
    "from tqdm import tqdm\n",
    "\n",
    "\n",
    "def seed_all(seed=42):\n",
    "\n",
    "    random.seed(seed)\n",
    "    torch.manual_seed(seed)\n",
    "    torch.cuda.manual_seed_all(seed)\n",
    "    torch.cuda.manual_seed(seed)\n",
    "    np.random.seed(seed)\n",
    "    torch.backends.cudnn.deterministic = True\n",
    "    torch.backends.cudnn.benchmark = False\n",
    "    print(\"[ Using Seed : \", seed, \" ]\")\n",
    "\n",
    "####################################\n",
    "#####   SEED ALL EXPERIMENTS   #####\n",
    "####################################\n",
    "seed_all()    \n",
    "\n",
    "data_path = p_join('..', '..', 'data')\n",
    "N_FEAT = 16                  # Set n_feat. parameter - uses for count central features\n",
    "#################################\n",
    "####### GLOBAL CONFIG ###########\n",
    "#################################\n",
    "CONFIG = {'ephs': 100,\n",
    "          'train_batch_size': 1024,\n",
    "          'test_batch_size': 64,\n",
    "          'cpu_workers': 2,\n",
    "          'save_ckpts': False,\n",
    "          'ckpt_save_folder': f'mlp_ckpts_feat_{N_FEAT}'}"
   ]
  },
  {
   "cell_type": "code",
   "execution_count": null,
   "id": "78c19c83",
   "metadata": {
    "execution": {
     "iopub.execute_input": "2022-04-29T12:24:30.865188Z",
     "iopub.status.busy": "2022-04-29T12:24:30.864927Z",
     "iopub.status.idle": "2022-04-29T12:24:30.872725Z",
     "shell.execute_reply": "2022-04-29T12:24:30.871021Z"
    }
   },
   "outputs": [],
   "source": [
    "import sys\n",
    "sys.path.append(\"../..\") # Adds higher directory to python modules path.\n",
    "from utils import utils\n",
    "from utils import dl_models"
   ]
  },
  {
   "cell_type": "markdown",
   "id": "ffebe305",
   "metadata": {},
   "source": [
    "### Run training"
   ]
  },
  {
   "cell_type": "code",
   "execution_count": null,
   "id": "17ab9174",
   "metadata": {},
   "outputs": [],
   "source": [
    "### Each subarray represent an experiment,\n",
    "### where N will be used for dataset creation \n",
    "N_SLICES = [[21, 22], [23, 24], [25, 26], [27, 28]]"
   ]
  },
  {
   "cell_type": "code",
   "execution_count": null,
   "id": "2fbf269d",
   "metadata": {},
   "outputs": [],
   "source": [
    "results = {}\n",
    "for nums in N_SLICES:\n",
    "    n_global_str = '-'.join(map(str, nums))\n",
    "    CONFIG['ckpt_save_folder'] = f'mlp_ckpts_N_{n_global_str}_feat_{N_FEAT}'\n",
    "    CONFIG['experiment_name'] = f'N_C={N_FEAT}, N={n_global_str}'\n",
    "    print(f\"Starting {CONFIG['experiment_name']} ...\")\n",
    "\n",
    "    ################################\n",
    "    ####    Create dataset      ####\n",
    "    ################################\n",
    "    X, Y = utils.make_merged_dataset_by_N(data_path, nums, n_feat=N_FEAT)\n",
    "    train_dataloader, test_dataloader = utils.create_dataloaders(\n",
    "                                            X, Y,\n",
    "                                            cpu_workers=CONFIG['cpu_workers'],\n",
    "                                            train_bs=CONFIG['train_batch_size'],\n",
    "                                            test_bs=CONFIG['test_batch_size']\n",
    "                                        )\n",
    "\n",
    "\n",
    "    ################################\n",
    "    ####    Run training        ####\n",
    "    ################################\n",
    "    net = dl_models.MlpNetLight(in_features=N_FEAT)\n",
    "    utils.count_params(net)\n",
    "    optimizer = torch.optim.Adam(net.parameters(), lr=CONFIG.get('lr', 5e-3))\n",
    "    score = utils.run_training(net, optimizer, CONFIG, train_dataloader, test_dataloader)\n",
    "    results[CONFIG['experiment_name']] = {'Accuracy': score}"
   ]
  },
  {
   "cell_type": "code",
   "execution_count": null,
   "id": "62b2e8a9",
   "metadata": {},
   "outputs": [],
   "source": [
    "results"
   ]
  },
  {
   "cell_type": "code",
   "execution_count": null,
   "id": "535b7e7a",
   "metadata": {},
   "outputs": [],
   "source": []
  }
 ],
 "metadata": {
  "kernelspec": {
   "display_name": "Python 3 (ipykernel)",
   "language": "python",
   "name": "python3"
  },
  "language_info": {
   "codemirror_mode": {
    "name": "ipython",
    "version": 3
   },
   "file_extension": ".py",
   "mimetype": "text/x-python",
   "name": "python",
   "nbconvert_exporter": "python",
   "pygments_lexer": "ipython3",
   "version": "3.10.7"
  }
 },
 "nbformat": 4,
 "nbformat_minor": 5
}
