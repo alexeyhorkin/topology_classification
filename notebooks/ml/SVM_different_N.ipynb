{
 "cells": [
  {
   "cell_type": "markdown",
   "id": "89ebb92f",
   "metadata": {},
   "source": [
    "# Notebook for training/testing SVM\n",
    "\n",
    "We train a set of `SVM` networks on different datasets (**for different N in system, N features uses - fixed**)"
   ]
  },
  {
   "cell_type": "code",
   "execution_count": null,
   "id": "39fb5960",
   "metadata": {
    "execution": {
     "iopub.execute_input": "2022-04-29T12:24:28.224297Z",
     "iopub.status.busy": "2022-04-29T12:24:28.224001Z",
     "iopub.status.idle": "2022-04-29T12:24:29.983159Z",
     "shell.execute_reply": "2022-04-29T12:24:29.982064Z"
    }
   },
   "outputs": [],
   "source": [
    "import os\n",
    "import random\n",
    "import numpy as np\n",
    "import pandas as pd\n",
    "import matplotlib.pyplot as plt\n",
    "\n",
    "from os.path import join as p_join\n",
    "\n",
    "import seaborn as sns\n",
    "\n",
    "from tqdm import tqdm\n",
    "\n",
    "\n",
    "##################################\n",
    "## GLOBAL SETTINGS ###############\n",
    "##################################\n",
    "plt.rcParams[\"figure.figsize\"] = (12, 8)\n",
    "\n",
    "\n",
    "###################################\n",
    "####     SKIT-LEARN DEPS       ####\n",
    "###################################\n",
    "from sklearn import svm\n",
    "from sklearn.model_selection import train_test_split\n",
    "from sklearn.metrics import accuracy_score\n",
    "\n",
    "def seed_all(seed=42):\n",
    "\n",
    "    random.seed(seed)\n",
    "    np.random.seed(seed)\n",
    "    print(\"[ Using Seed : \", seed, \" ]\")\n",
    "    \n",
    "####################################\n",
    "#####   SEED ALL EXPERIMENTS   #####\n",
    "####################################\n",
    "seed_all()\n",
    "\n",
    "data_path = p_join('..', '..', 'data')\n",
    "N_FEAT = 16                  # Set n_feat. parameter - uses for count central features"
   ]
  },
  {
   "cell_type": "code",
   "execution_count": null,
   "id": "78c19c83",
   "metadata": {
    "execution": {
     "iopub.execute_input": "2022-04-29T12:24:30.865188Z",
     "iopub.status.busy": "2022-04-29T12:24:30.864927Z",
     "iopub.status.idle": "2022-04-29T12:24:30.872725Z",
     "shell.execute_reply": "2022-04-29T12:24:30.871021Z"
    }
   },
   "outputs": [],
   "source": [
    "import sys\n",
    "sys.path.append(\"../..\") # Adds higher directory to python modules path.\n",
    "from utils import utils"
   ]
  },
  {
   "cell_type": "markdown",
   "id": "ffebe305",
   "metadata": {},
   "source": [
    "### Run training"
   ]
  },
  {
   "cell_type": "code",
   "execution_count": null,
   "id": "ccc6fd56",
   "metadata": {},
   "outputs": [],
   "source": [
    "### Each subarray represent an experiment,\n",
    "### where N will be used for dataset creation\n",
    "N_SLICES = [[21, 22], [23, 24], [25, 26], [27, 28]]"
   ]
  },
  {
   "cell_type": "code",
   "execution_count": null,
   "id": "13b14527",
   "metadata": {
    "scrolled": true
   },
   "outputs": [],
   "source": [
    "results = {}\n",
    "for nums in N_SLICES:\n",
    "    n_global_str = '-'.join(map(str, nums))\n",
    "    exp_name = f'N_C={N_FEAT}, N={n_global_str}'\n",
    "    print(f\"Starting {exp_name} ...\")\n",
    "\n",
    "    ################################\n",
    "    ####    Create dataset      ####\n",
    "    ################################\n",
    "    X, Y = utils.make_merged_dataset_by_N(data_path, nums, n_feat=N_FEAT)\n",
    "    X_train, X_test, Y_train, Y_test = train_test_split(X, Y, test_size=0.2, random_state=42)\n",
    "\n",
    "    ################################\n",
    "    ####    Run training        ####\n",
    "    ################################\n",
    "    model = svm.SVC(C=1000, max_iter=-1)\n",
    "    model.fit(X_train, Y_train)\n",
    "\n",
    "    ################################\n",
    "    ####      Make test         ####\n",
    "    ################################\n",
    "    score = accuracy_score(Y_test, model.predict(X_test))\n",
    "    results[exp_name] = {'Accuracy': score}"
   ]
  },
  {
   "cell_type": "code",
   "execution_count": null,
   "id": "62b2e8a9",
   "metadata": {},
   "outputs": [],
   "source": [
    "results"
   ]
  },
  {
   "cell_type": "code",
   "execution_count": null,
   "id": "420c4931",
   "metadata": {},
   "outputs": [],
   "source": []
  }
 ],
 "metadata": {
  "kernelspec": {
   "display_name": "Python 3 (ipykernel)",
   "language": "python",
   "name": "python3"
  },
  "language_info": {
   "codemirror_mode": {
    "name": "ipython",
    "version": 3
   },
   "file_extension": ".py",
   "mimetype": "text/x-python",
   "name": "python",
   "nbconvert_exporter": "python",
   "pygments_lexer": "ipython3",
   "version": "3.10.7"
  }
 },
 "nbformat": 4,
 "nbformat_minor": 5
}
