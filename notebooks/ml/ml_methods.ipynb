{
 "cells": [
  {
   "cell_type": "markdown",
   "id": "8a4af8d5",
   "metadata": {},
   "source": [
    "# Notebook for ML methods\n",
    "\n",
    "We use simple grid search approach to find optimal parameters for all methods:\n",
    "* KNeighborsClassifier\n",
    "* LogisticRegression\n",
    "* SVC\n",
    "* GaussianNB\n",
    "* Decision Tree\n",
    "* Random Forest\n",
    "\n",
    "Table for comparation will be cteated at the end of this notebook and logs as well. "
   ]
  },
  {
   "cell_type": "code",
   "execution_count": null,
   "id": "34fa79e7",
   "metadata": {},
   "outputs": [],
   "source": [
    "import os\n",
    "import random\n",
    "import numpy as np\n",
    "import pandas as pd\n",
    "import matplotlib.pyplot as plt\n",
    "\n",
    "from os.path import join as p_join\n",
    "\n",
    "##################################\n",
    "## GLOBAL SETTINGS ###############\n",
    "##################################\n",
    "plt.rcParams[\"figure.figsize\"] = (12, 8)\n",
    "\n",
    "def seed_all(seed=42):\n",
    "\n",
    "    random.seed(seed)\n",
    "    np.random.seed(seed)\n",
    "    print(\"[ Using Seed : \", seed, \" ]\")\n",
    "\n",
    "####################################\n",
    "#####   SEED ALL EXPERIMENTS   #####\n",
    "####################################\n",
    "seed_all()"
   ]
  },
  {
   "cell_type": "code",
   "execution_count": null,
   "id": "bf2b7bbd",
   "metadata": {},
   "outputs": [],
   "source": [
    "import sys\n",
    "sys.path.append(\"../..\") # Adds higher directory to python modules path.\n",
    "from utils import utils"
   ]
  },
  {
   "cell_type": "code",
   "execution_count": null,
   "id": "6ba78da5",
   "metadata": {},
   "outputs": [],
   "source": [
    "L_PARAMETR = 1.6         # Set L parametr to create dataset\n",
    "data_path = p_join('..', '..', 'data')\n",
    "FOLDERS = [p_join(os.path.abspath(data_path), item)\n",
    "           for item in os.listdir(data_path) if f'L={L_PARAMETR}' in item]              "
   ]
  },
  {
   "cell_type": "code",
   "execution_count": null,
   "id": "0e851d94",
   "metadata": {},
   "outputs": [],
   "source": [
    "###############################\n",
    "##### IMPORT ML METHODS   #####\n",
    "###############################\n",
    "from sklearn.neighbors import KNeighborsClassifier\n",
    "from sklearn import svm\n",
    "from sklearn.naive_bayes import GaussianNB\n",
    "from sklearn.linear_model import LogisticRegression\n",
    "from sklearn.linear_model import SGDClassifier\n",
    "from sklearn.tree import DecisionTreeClassifier\n",
    "from sklearn.ensemble import RandomForestClassifier\n",
    "\n",
    "\n",
    "#################################\n",
    "####### GLOBAL CONFIG ###########\n",
    "#################################\n",
    "CONFIG = {'scoring': ['accuracy', 'f1_macro'],\n",
    "          'cv': 5,\n",
    "          'n_jobs': -1}"
   ]
  },
  {
   "cell_type": "markdown",
   "id": "5b102d35",
   "metadata": {},
   "source": [
    "### Create dataset"
   ]
  },
  {
   "cell_type": "code",
   "execution_count": null,
   "id": "79410aab",
   "metadata": {},
   "outputs": [],
   "source": [
    "X, Y = utils.create_dataset(FOLDERS)\n",
    "X = utils.normalize_data(X)"
   ]
  },
  {
   "cell_type": "markdown",
   "id": "fffd8fcf",
   "metadata": {},
   "source": [
    "### Try `KNeighborsClassifier` Grid Search"
   ]
  },
  {
   "cell_type": "code",
   "execution_count": null,
   "id": "e66f2047",
   "metadata": {},
   "outputs": [],
   "source": [
    "params = {'n_neighbors': [3, 5, 7, 9], 'weights':['uniform', 'distance']}\n",
    "knn_grid_search_res = utils.greed_searc_cv(KNeighborsClassifier(),\n",
    "                                           params,\n",
    "                                           CONFIG,\n",
    "                                           X, Y)"
   ]
  },
  {
   "cell_type": "markdown",
   "id": "7537ef4e",
   "metadata": {},
   "source": [
    "### Try `LogisticRegression` Grid Search"
   ]
  },
  {
   "cell_type": "code",
   "execution_count": null,
   "id": "6fd2dd5b",
   "metadata": {},
   "outputs": [],
   "source": [
    "params = [{'penalty': ['l1', 'l2'],\n",
    "          'C': [1/i for i in range(1, 20, 3)],\n",
    "          'solver': ['saga'],\n",
    "          'max_iter': [2000]},\n",
    "          {'penalty': ['elasticnet'],\n",
    "           'C': [1/i for i in range(1, 20, 3)],\n",
    "           'solver': ['saga'],\n",
    "           'l1_ratio': np.linspace(0, 1, 5),\n",
    "           'max_iter': [2000]}\n",
    "         ]\n",
    "\n",
    "log_reg_grid_search_res = utils.greed_searc_cv(LogisticRegression(),\n",
    "                                               params,\n",
    "                                               CONFIG,\n",
    "                                               X, Y)"
   ]
  },
  {
   "cell_type": "markdown",
   "id": "5fe72f7b",
   "metadata": {},
   "source": [
    "### Try `SVC` Grid Search (note: very long operation)"
   ]
  },
  {
   "cell_type": "code",
   "execution_count": null,
   "id": "17fbc180",
   "metadata": {},
   "outputs": [],
   "source": [
    "params = {'kernel': ('linear', 'rbf', 'poly'),\n",
    "          'C':[1, 3, 5, 10, 15, 20, 25, 30, 100, 200, 1000, 2000]}\n",
    "svc_grid_search_res = utils.greed_searc_cv(svm.SVC(),\n",
    "                                           params,\n",
    "                                           CONFIG,\n",
    "                                           X, Y)"
   ]
  },
  {
   "cell_type": "markdown",
   "id": "95862f59",
   "metadata": {},
   "source": [
    "### Try `GNB` Grid Search"
   ]
  },
  {
   "cell_type": "code",
   "execution_count": null,
   "id": "93b24d55",
   "metadata": {},
   "outputs": [],
   "source": [
    "params = {'var_smoothing': [1e-9]}\n",
    "gnb_grid_search_res = utils.greed_searc_cv(GaussianNB(),\n",
    "                                           params,\n",
    "                                           CONFIG,\n",
    "                                           X, Y)"
   ]
  },
  {
   "cell_type": "markdown",
   "id": "3265ce93",
   "metadata": {},
   "source": [
    "### Try `Decision Tree` Grid Search "
   ]
  },
  {
   "cell_type": "code",
   "execution_count": null,
   "id": "9dccb9d9",
   "metadata": {},
   "outputs": [],
   "source": [
    "params = {'criterion': ['gini', 'entropy'],\n",
    "         'max_depth': [4,5,6,7,8,9,10,11,12,15,20,30,40,50,70,90,120,150]}\n",
    "dt_grid_search_res = utils.greed_searc_cv(DecisionTreeClassifier(),\n",
    "                                          params,\n",
    "                                          CONFIG,\n",
    "                                          X, Y)"
   ]
  },
  {
   "cell_type": "markdown",
   "id": "f83a2e3f",
   "metadata": {},
   "source": [
    "### Try `Ramdom Forest` Grid Search "
   ]
  },
  {
   "cell_type": "code",
   "execution_count": null,
   "id": "846495c4",
   "metadata": {},
   "outputs": [],
   "source": [
    "params = {'criterion': ['gini', 'entropy'],\n",
    "          'n_estimators': [10, 50, 100],\n",
    "          'max_depth': [3, 5, 10],\n",
    "          'min_samples_split': [2, 5, 10]}\n",
    "rf_grid_search_res = utils.greed_searc_cv(RandomForestClassifier(),\n",
    "                                          params,\n",
    "                                          CONFIG,\n",
    "                                          X, Y)"
   ]
  },
  {
   "cell_type": "markdown",
   "id": "032f9fbf",
   "metadata": {},
   "source": [
    "### Plot Pandas DataFrame with summary"
   ]
  },
  {
   "cell_type": "code",
   "execution_count": null,
   "id": "b5db8a3f",
   "metadata": {},
   "outputs": [],
   "source": [
    "all_results = {'KNN': knn_grid_search_res,\n",
    "               'Logistic regression': log_reg_grid_search_res,\n",
    "               'SVM': svc_grid_search_res,\n",
    "               'GaussianNB': gnb_grid_search_res, \n",
    "               'Decision Tree': dt_grid_search_res,\n",
    "               'Ramdom Forest': rf_grid_search_res}\n",
    "\n",
    "data = {}\n",
    "for method in all_results:\n",
    "    res = all_results[method]\n",
    "    bi = res['best_index']\n",
    "    val = []\n",
    "    for kk in res['cv_results']:\n",
    "        if 'mean_test' in kk:\n",
    "            val.append(res['cv_results'][kk][bi])\n",
    "    data[method] = val"
   ]
  },
  {
   "cell_type": "code",
   "execution_count": null,
   "id": "2ef96ecf",
   "metadata": {},
   "outputs": [],
   "source": [
    "df = pd.DataFrame.from_dict(data, orient='index', columns=CONFIG['scoring'])\n",
    "df"
   ]
  },
  {
   "cell_type": "code",
   "execution_count": null,
   "id": "7a6a54a6",
   "metadata": {},
   "outputs": [],
   "source": [
    "if not os.path.exists(\"logs\"):\n",
    "    os.makedirs(\"logs\")\n",
    "\n",
    "with open(f'logs/all_res_ml_l_{L_PARAMETR}.txt', 'w') as f:\n",
    "    f.write(str(all_results))"
   ]
  }
 ],
 "metadata": {
  "kernelspec": {
   "display_name": "Python 3 (ipykernel)",
   "language": "python",
   "name": "python3"
  },
  "language_info": {
   "codemirror_mode": {
    "name": "ipython",
    "version": 3
   },
   "file_extension": ".py",
   "mimetype": "text/x-python",
   "name": "python",
   "nbconvert_exporter": "python",
   "pygments_lexer": "ipython3",
   "version": "3.10.7"
  }
 },
 "nbformat": 4,
 "nbformat_minor": 5
}
