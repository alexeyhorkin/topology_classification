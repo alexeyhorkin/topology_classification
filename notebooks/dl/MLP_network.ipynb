{
 "cells": [
  {
   "cell_type": "markdown",
   "id": "d4f137f6",
   "metadata": {},
   "source": [
    "# Notebook for training/testing MLP network\n",
    "\n",
    "We train a set of `MLP` networks on different datasets (**for different n central features, L - fixed**)"
   ]
  },
  {
   "cell_type": "code",
   "execution_count": null,
   "id": "39fb5960",
   "metadata": {
    "execution": {
     "iopub.execute_input": "2022-04-29T12:24:28.224297Z",
     "iopub.status.busy": "2022-04-29T12:24:28.224001Z",
     "iopub.status.idle": "2022-04-29T12:24:29.983159Z",
     "shell.execute_reply": "2022-04-29T12:24:29.982064Z"
    },
    "scrolled": false
   },
   "outputs": [],
   "source": [
    "import os\n",
    "import random\n",
    "import numpy as np\n",
    "\n",
    "from os.path import join as p_join"
   ]
  },
  {
   "cell_type": "code",
   "execution_count": null,
   "id": "41789d83",
   "metadata": {
    "execution": {
     "iopub.execute_input": "2022-04-29T12:24:29.999476Z",
     "iopub.status.busy": "2022-04-29T12:24:29.998883Z",
     "iopub.status.idle": "2022-04-29T12:24:30.860948Z",
     "shell.execute_reply": "2022-04-29T12:24:30.860068Z"
    },
    "scrolled": false
   },
   "outputs": [],
   "source": [
    "###############################\n",
    "##### IMPORT DL Depensies #####\n",
    "###############################\n",
    "import torch\n",
    "\n",
    "def seed_all(seed=42):\n",
    "\n",
    "    random.seed(seed)\n",
    "    torch.manual_seed(seed)\n",
    "    torch.cuda.manual_seed_all(seed)\n",
    "    torch.cuda.manual_seed(seed)\n",
    "    np.random.seed(seed)\n",
    "    torch.backends.cudnn.deterministic = True\n",
    "    torch.backends.cudnn.benchmark = False\n",
    "    print(\"[ Using Seed : \", seed, \" ]\")\n",
    "\n",
    "####################################\n",
    "#####   SEED ALL EXPERIMENTS   #####\n",
    "####################################\n",
    "seed_all()    \n",
    "\n",
    "L_PARAMETR = 10.6                         # Set L parametr to create dataset\n",
    "#################################\n",
    "####### GLOBAL CONFIG ###########\n",
    "#################################\n",
    "CONFIG = {'ephs': 100,\n",
    "          'train_batch_size': 1024,\n",
    "          'test_batch_size': 64,\n",
    "          'cpu_workers': 2,\n",
    "          'save_ckpts': False,\n",
    "          'ckpt_save_folder': f'mlp_ckpts_L_{L_PARAMETR}'}"
   ]
  },
  {
   "cell_type": "code",
   "execution_count": null,
   "id": "78c19c83",
   "metadata": {
    "execution": {
     "iopub.execute_input": "2022-04-29T12:24:30.865188Z",
     "iopub.status.busy": "2022-04-29T12:24:30.864927Z",
     "iopub.status.idle": "2022-04-29T12:24:30.872725Z",
     "shell.execute_reply": "2022-04-29T12:24:30.871021Z"
    },
    "scrolled": false
   },
   "outputs": [],
   "source": [
    "import sys\n",
    "sys.path.append(\"../..\") # Adds higher directory to python modules path.\n",
    "from utils import utils\n",
    "from utils import dl_models"
   ]
  },
  {
   "cell_type": "code",
   "execution_count": null,
   "id": "61c52cc7",
   "metadata": {
    "execution": {
     "iopub.execute_input": "2022-04-29T12:24:30.879377Z",
     "iopub.status.busy": "2022-04-29T12:24:30.877079Z",
     "iopub.status.idle": "2022-04-29T12:24:30.892165Z",
     "shell.execute_reply": "2022-04-29T12:24:30.891306Z"
    },
    "scrolled": false
   },
   "outputs": [],
   "source": [
    "data_path = p_join('..', '..', 'data')\n",
    "FOLDERS = [p_join(os.path.abspath(data_path), item)\n",
    "           for item in os.listdir(data_path) if f'L={L_PARAMETR}' in item]"
   ]
  },
  {
   "cell_type": "markdown",
   "id": "ffebe305",
   "metadata": {},
   "source": [
    "### Run training"
   ]
  },
  {
   "cell_type": "code",
   "execution_count": null,
   "id": "83ff856a",
   "metadata": {
    "scrolled": true
   },
   "outputs": [],
   "source": [
    "results = {}\n",
    "models, test_loaders = {}, {}\n",
    "for n_feat in [16, 17, 18, 19, 20]:\n",
    "    CONFIG['ckpt_save_folder'] = f'mlp_ckpts_L_{L_PARAMETR}_feat_{n_feat}'\n",
    "    CONFIG['experiment_name'] = f'L={L_PARAMETR}, N={n_feat}'\n",
    "    print(f\"Starting {CONFIG['experiment_name']} ...\")\n",
    "    ################################\n",
    "    ####    Create dataset      ####\n",
    "    ################################\n",
    "    seed_all()\n",
    "    X, Y = utils.create_dataset(FOLDERS, feature_nums=n_feat)\n",
    "    X = utils.normalize_data(X)\n",
    "    train_dataloader, test_dataloader = utils.create_dataloaders(\n",
    "                                            X, Y,\n",
    "                                            cpu_workers=CONFIG['cpu_workers'],\n",
    "                                            train_bs=CONFIG['train_batch_size'],\n",
    "                                            test_bs=CONFIG['test_batch_size']\n",
    "                                        )\n",
    "    \n",
    "    ################################\n",
    "    ####    Run training        ####\n",
    "    ################################\n",
    "    net = dl_models.MlpNetLight(in_features=n_feat)\n",
    "    utils.count_params(net)\n",
    "    optimizer = torch.optim.Adam(net.parameters(), lr=CONFIG.get('lr', 5e-3))\n",
    "    score = utils.run_training(net, optimizer, CONFIG, train_dataloader, test_dataloader)\n",
    "\n",
    "    models[CONFIG['experiment_name']] = net\n",
    "    test_loaders[CONFIG['experiment_name']] = test_dataloader\n",
    "    results[CONFIG['experiment_name']] = {'Accuracy': score}"
   ]
  },
  {
   "cell_type": "code",
   "execution_count": null,
   "id": "c3d7c56d",
   "metadata": {
    "scrolled": false
   },
   "outputs": [],
   "source": [
    "results"
   ]
  }
 ],
 "metadata": {
  "kernelspec": {
   "display_name": "Python 3 (ipykernel)",
   "language": "python",
   "name": "python3"
  },
  "language_info": {
   "codemirror_mode": {
    "name": "ipython",
    "version": 3
   },
   "file_extension": ".py",
   "mimetype": "text/x-python",
   "name": "python",
   "nbconvert_exporter": "python",
   "pygments_lexer": "ipython3",
   "version": "3.10.7"
  }
 },
 "nbformat": 4,
 "nbformat_minor": 5
}
